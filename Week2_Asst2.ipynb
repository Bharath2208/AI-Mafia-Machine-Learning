{
 "cells": [
  {
   "cell_type": "code",
   "execution_count": 85,
   "metadata": {},
   "outputs": [],
   "source": [
    "import numpy as np\n",
    "import pandas as pd\n",
    "import matplotlib.pyplot as plt"
   ]
  },
  {
   "cell_type": "code",
   "execution_count": 86,
   "metadata": {},
   "outputs": [
    {
     "name": "stdout",
     "output_type": "stream",
     "text": [
      "      feature_1  feature_2  feature_3  feature_4  feature_5      target\n",
      "0      0.293416  -0.945599  -0.421105   0.406816   0.525662  -82.154667\n",
      "1     -0.836084  -0.189228  -0.776403  -1.053831   0.597997  -48.897960\n",
      "2      0.236425   0.132836  -0.147723   0.699854  -0.187364   77.270371\n",
      "3      0.175312   0.143194  -0.581111  -0.122107  -1.292168   -2.988581\n",
      "4     -1.693011   0.542712  -2.798729  -0.686723   1.244077  -37.596722\n",
      "5     -1.055329  -0.874807   0.580753  -0.773541   1.070888 -122.405263\n",
      "6     -0.824707   0.499427   1.293281  -0.240671  -0.419136    1.413741\n",
      "7     -1.936602   0.583708  -0.521135  -0.631724  -1.030729  -13.306543\n",
      "8      0.647431  -0.265401   0.327080   0.457829  -1.757592  -25.754698\n",
      "9     -1.133029  -0.839132  -0.547809   0.551768  -0.639173  -57.077754\n",
      "10    -2.015734   0.102635  -0.136282  -0.021666   0.743511  -41.964694\n",
      "11     0.995705   0.404433  -0.650904   0.147422  -0.373554   78.080486\n",
      "12    -2.200223   0.094438  -2.430327  -0.692914  -0.668452  -93.639361\n",
      "13    -0.300770  -0.811463  -1.937111  -0.955217   0.444939 -133.317638\n",
      "14     0.177315  -1.464889   0.592158  -0.768679   1.161265 -159.590815\n",
      "15    -0.083158   0.508679  -0.923358  -0.096979  -0.183199   25.327815\n",
      "16     0.854740  -0.952329  -0.047007  -0.454386   0.635096  -59.741385\n",
      "17    -1.044389  -0.656232  -0.630098   1.134076  -0.447874    8.007756\n",
      "18    -0.625493   0.788249  -0.539730   0.007926   0.512638   13.124383\n",
      "19    -0.329592   0.618311  -0.205147   0.485597   0.138680   50.729802\n",
      "20    -0.939883  -0.138472  -0.290946  -0.379734   1.277450  -56.410281\n",
      "21    -0.164342   2.282222   0.646008   0.345041   0.615254  244.666249\n",
      "22    -0.888365  -1.643190  -0.410544   0.483515  -1.640638 -139.533896\n",
      "23     0.679559  -1.332132  -0.788716  -1.028697   0.771415 -172.599503\n",
      "24     1.202001   1.708672   0.638832   0.018433  -1.361102  209.467845\n",
      "25     0.751706   1.565283  -0.080598  -0.155169   0.023565  177.702941\n",
      "26    -0.067699   0.139594  -1.175736  -0.505815   0.989058   27.292170\n",
      "27    -2.159217   0.356438   1.740146  -0.108872  -0.400183  -34.383002\n",
      "28     0.713187  -1.482653  -0.359387   0.904155  -0.726404  -50.976780\n",
      "29     1.856230   1.354485   0.938611   0.943204   0.310218  217.976813\n",
      "...         ...        ...        ...        ...        ...         ...\n",
      "1570  -0.225807   1.213110  -1.375559   0.515592  -0.012567  103.740872\n",
      "1571   0.320988   0.906792   0.409174  -0.604164  -0.761622   81.571173\n",
      "1572  -2.080234   0.970917   1.085586  -0.656904   2.040094   13.779527\n",
      "1573  -0.248951  -1.063535  -0.614108   0.412893  -1.327922 -103.952248\n",
      "1574  -0.356968  -0.639721  -0.069936  -0.241750  -0.065399 -109.199461\n",
      "1575   0.906238  -0.312835   0.344144   1.566213  -1.459273   60.071695\n",
      "1576   0.457727  -0.091074   0.049400  -1.547699   0.367067  -58.291630\n",
      "1577  -1.281409  -1.267003   1.108804   0.766266   0.610578 -102.867954\n",
      "1578  -2.264984  -0.574287   0.234497   0.906805  -0.337837  -90.567159\n",
      "1579   0.485648   0.350977  -1.772946  -0.186666  -0.240794    3.423467\n",
      "1580   0.037694   1.027070  -0.821457  -0.675237  -1.299197   38.630045\n",
      "1581   0.473986   0.507194   1.321521   0.296678  -0.135203  104.005250\n",
      "1582  -1.090347  -1.317743  -1.127431   1.351151   0.103052 -132.754206\n",
      "1583  -0.485653  -0.279222   0.806337   0.762208   0.679837  -23.575639\n",
      "1584   1.339639   1.374280  -0.493700  -0.155458  -0.522258  166.423896\n",
      "1585  -0.533226   0.375595  -0.368000   2.198060   1.441469  122.494032\n",
      "1586   0.554841   0.501730  -0.862787  -0.158139  -0.094087   48.736609\n",
      "1587   0.263734   1.241994  -0.185326   0.695656  -0.542285  137.055965\n",
      "1588  -0.132846   0.583159  -0.875259  -0.521893  -0.163471   28.715842\n",
      "1589   0.622287  -0.067685  -0.702151  -0.121858   0.452018  -19.248457\n",
      "1590  -0.374072   1.434479  -1.872214   0.830121   1.941704  166.238729\n",
      "1591  -0.205200   0.886614  -0.115324  -0.416026   1.148498   40.636215\n",
      "1592   0.131213   0.173829  -0.332478   2.468500   0.444754  151.860893\n",
      "1593   1.006949   0.813034   0.922859   0.826836  -0.766023  153.060951\n",
      "1594   0.761401  -1.398014   2.144511   1.470462   0.630895  -23.242696\n",
      "1595  -0.274961  -0.820634  -0.757173  -0.147555  -0.307149  -80.110012\n",
      "1596  -0.076099   0.255257   0.290054   1.796036   0.340350  118.315601\n",
      "1597   1.044177  -0.899206   1.730399  -1.871057   0.442520 -107.510508\n",
      "1598  -1.269173  -0.005052   1.857669  -1.080365   0.736334  -47.341558\n",
      "1599  -1.884000  -0.849427  -1.452270   0.488613   1.459576 -115.939003\n",
      "\n",
      "[1600 rows x 6 columns]\n"
     ]
    }
   ],
   "source": [
    "dfx=pd.read_csv(r\"C:\\Users\\Bharath Chandra\\Downloads\\Train.csv\")\n",
    "print(dfx)"
   ]
  },
  {
   "cell_type": "code",
   "execution_count": 87,
   "metadata": {},
   "outputs": [
    {
     "name": "stdout",
     "output_type": "stream",
     "text": [
      "[[ 0.29341624 -0.94559871 -0.42110515  0.40681602  0.52566183]\n",
      " [-0.83608408 -0.18922804 -0.77640262 -1.05383124  0.59799685]\n",
      " [ 0.23642511  0.13283602 -0.14772298  0.69985396 -0.18736416]\n",
      " ...\n",
      " [ 1.04417694 -0.89920649  1.73039905 -1.87105676  0.44251965]\n",
      " [-1.2691729  -0.00505216  1.85766873 -1.08036482  0.73633394]\n",
      " [-1.88400025 -0.84942743 -1.45227035  0.48861308  1.4595758 ]]\n",
      "(1600, 5)\n",
      "(1600,)\n"
     ]
    }
   ],
   "source": [
    "trainx=dfx.loc[:,\"feature_1\":\"feature_5\"]\n",
    "trainy=dfx.loc[:,\"target\"]\n",
    "trainx=trainx.values\n",
    "trainy=trainy.values\n",
    "print(trainx)\n",
    "print(trainx.shape)\n",
    "print(trainy.shape)\n",
    "X=trainx\n",
    "Y=trainy"
   ]
  },
  {
   "cell_type": "code",
   "execution_count": 88,
   "metadata": {},
   "outputs": [],
   "source": [
    "def hypothesis(x,theta):\n",
    "    hx=theta[0]\n",
    "    for i in range(1,5):\n",
    "        hx+=theta[i]*x[i]\n",
    "    return hx\n",
    "def error(X,Y,theta):\n",
    "    m=X.shape[0]\n",
    "    error=0.0\n",
    "    for i in range(m):\n",
    "        hx=hypothesis(X[i],theta)\n",
    "        error+=(Y[i]-hx)**2\n",
    "    return error\n",
    "def gradient(X,Y,theta):\n",
    "    grad=np.zeros((6,))\n",
    "    m=X.shape[0]\n",
    "    for i in range(m):\n",
    "        hx=hypothesis(X[i],theta)\n",
    "        grad[0]+=hx-Y[i]\n",
    "        for j in range(1,5):\n",
    "            grad[j]+=(hx-Y[i])*X[i][j]\n",
    "    return grad\n",
    "def gradientdescent(X,Y,learning_rate=0.001):\n",
    "    theta=np.array([1.0,2.0,3.0,4.0,5.0,6.0])\n",
    "    itr=0\n",
    "    max_itr=100\n",
    "    error_list=[]\n",
    "    theta_list=[]\n",
    "    while(itr<=max_itr):\n",
    "        grad=gradient(X,Y,theta)\n",
    "        e=error(X,Y,theta)\n",
    "        error_list.append(e)\n",
    "        theta_list.append((theta[0],theta[1],theta[2],theta[3],theta[4],theta[5]))\n",
    "        for i in range(6):\n",
    "            theta[i]-=learning_rate*grad[i]\n",
    "        itr+=1\n",
    "    return theta,error_list,theta_list\n",
    "\n",
    "        "
   ]
  },
  {
   "cell_type": "code",
   "execution_count": 89,
   "metadata": {},
   "outputs": [],
   "source": [
    "final_theta, error_list,theta_list = gradientdescent(X,Y)"
   ]
  },
  {
   "cell_type": "code",
   "execution_count": 90,
   "metadata": {},
   "outputs": [
    {
     "data": {
      "text/plain": [
       "[<matplotlib.lines.Line2D at 0x1b31af44160>]"
      ]
     },
     "execution_count": 90,
     "metadata": {},
     "output_type": "execute_result"
    },
    {
     "data": {
      "image/png": "[encoded data removed]",
      "text/plain": [
       "<Figure size 432x288 with 1 Axes>"
      ]
     },
     "metadata": {
      "needs_background": "light"
     },
     "output_type": "display_data"
    }
   ],
   "source": [
    "plt.plot(error_list)"
   ]
  },
  {
   "cell_type": "code",
   "execution_count": 91,
   "metadata": {},
   "outputs": [
    {
     "name": "stdout",
     "output_type": "stream",
     "text": [
      "(400, 5)\n",
      "[ 5.05553676 93.15385172  8.07714418 43.26323635  2.3746108   6.        ]\n"
     ]
    }
   ],
   "source": [
    "test=pd.read_csv(r\"C:\\Users\\Bharath Chandra\\Downloads\\Test.csv\")\n",
    "#print(test)\n",
    "#print(test)\n",
    "test_output=test\n",
    "test=test.values\n",
    "print(test.shape)\n",
    "print(final_theta)"
   ]
  },
  {
   "cell_type": "code",
   "execution_count": 92,
   "metadata": {},
   "outputs": [
    {
     "name": "stdout",
     "output_type": "stream",
     "text": [
      "[93.15385172  8.07714418 43.26323635  2.3746108   6.        ]\n"
     ]
    }
   ],
   "source": [
    "output=[]\n",
    "c=final_theta[0]\n",
    "final_theta=final_theta[1:]\n",
    "print(final_theta)"
   ]
  },
  {
   "cell_type": "code",
   "execution_count": 93,
   "metadata": {},
   "outputs": [],
   "source": [
    "for i in range(test.shape[0]):\n",
    "    output.append(np.dot(final_theta,test[i])+c)"
   ]
  },
  {
   "cell_type": "code",
   "execution_count": 95,
   "metadata": {},
   "outputs": [
    {
     "name": "stdout",
     "output_type": "stream",
     "text": [
      "400\n"
     ]
    }
   ],
   "source": [
    "print(len(output))"
   ]
  },
  {
   "cell_type": "code",
   "execution_count": 98,
   "metadata": {},
   "outputs": [],
   "source": [
    "test_output[\"target\"]=output"
   ]
  },
  {
   "cell_type": "code",
   "execution_count": 99,
   "metadata": {},
   "outputs": [
    {
     "name": "stdout",
     "output_type": "stream",
     "text": [
      "     feature_1  feature_2  feature_3  feature_4  feature_5      target\n",
      "0     1.015254   2.076209  -0.266435  -2.418088  -0.980503   93.248321\n",
      "1    -0.375021   0.953185   0.626719   0.704406  -0.355489    4.473528\n",
      "2    -1.024452   0.962991  -0.407942  -1.861274   0.455201 -101.935402\n",
      "3    -2.489841   0.544802   0.601219  -0.607021  -1.314286 -205.798764\n",
      "4    -0.384675  -0.833624   1.358552  -0.547932   0.411925   22.434093\n",
      "5     0.041547  -0.276119   2.236500  -0.994213   0.334767  103.101504\n",
      "6    -1.021536  -1.067035   0.439741   1.063519  -1.038031  -83.401205\n",
      "7    -1.472741   1.221807  -0.608505  -0.986382  -0.585592 -154.448964\n",
      "8    -0.528322   1.504864   0.915932   0.825660   0.212006   10.854147\n",
      "9     1.226962   1.183349  -0.264360   0.583738  -0.855756  113.724367\n",
      "10   -1.178140  -0.328367   0.522524  -1.095108  -0.118244  -88.048869\n",
      "11   -0.443459   0.245295  -1.018018  -0.658340   1.009180  -73.824132\n",
      "12    0.117454  -0.385655  -0.318667   0.628106  -0.847442   -4.497849\n",
      "13    0.523924   0.929012   1.729464   0.066142  -0.361031  134.177946\n",
      "14    1.692179  -0.071975   0.114793  -0.266237   1.082706  172.937537\n",
      "15   -0.107991   0.106709  -0.510273   0.814182   0.720733  -19.960668\n",
      "16    1.528942  -2.110348   1.218322  -1.207649  -0.188954  179.143912\n",
      "17    1.169885   0.206997   0.421672  -0.817604  -1.259583  124.450737\n",
      "18   -1.816036   0.819485   0.164402  -0.348228  -0.458120 -153.959147\n",
      "19    1.739297   0.744894   1.106798   0.002360   0.568131  224.392429\n",
      "20    0.090406   0.656495  -0.909354   0.050975   0.657929  -16.493209\n",
      "21    0.305224  -1.001285  -0.104126   0.388134   0.090811   22.362565\n",
      "22   -1.096111  -0.733565   0.504887  -0.401097   0.436008  -79.469914\n",
      "23    0.044339  -0.249286   2.124177  -0.198465   0.268176  100.208888\n",
      "24   -0.501824  -0.379529  -2.328602   0.042287   1.562997 -136.021243\n",
      "25    0.168628   0.420671  -1.868525  -0.468944  -0.246692  -59.270497\n",
      "26    1.775805  -0.242463  -0.054578  -0.148932   0.446151  168.482260\n",
      "27    0.781862   0.918856  -2.326035   0.296019   0.140882  -13.772866\n",
      "28    0.395237  -0.006430   2.052967  -0.208137   0.134283  130.950910\n",
      "29   -0.248791  -0.507093  -0.268790   0.665801  -1.708324  -42.513777\n",
      "..         ...        ...        ...        ...        ...         ...\n",
      "370   0.894469  -1.053568   0.267648  -1.766803   2.002061   99.265186\n",
      "371  -0.795376  -0.196843  -1.019262  -0.037202  -1.409963 -123.271425\n",
      "372   0.261829  -0.563728   0.554547  -1.361489   0.854772   50.779724\n",
      "373   0.267074  -0.745899  -0.729984   1.578925   0.148760   -3.029812\n",
      "374  -0.938644  -0.641441   0.758345   1.430675  -1.041783  -57.608756\n",
      "375  -2.225654   0.100813  -0.162963  -0.191135  -0.483025 -211.860793\n",
      "376   0.860155  -0.640644   0.931791   0.120046  -0.283374  118.904828\n",
      "377   0.237614  -1.226737  -0.463872  -1.532198   0.436746   -3.804827\n",
      "378   0.044878  -1.171656  -1.257633  -0.259869   0.595989  -51.677907\n",
      "379  -0.781736   0.327918  -0.567777   0.856691  -0.218306  -88.956917\n",
      "380   0.826327  -0.537665   1.487676  -0.707600   0.933762  145.972215\n",
      "381  -0.776472  -1.309870  -1.363608  -0.243788   1.666766 -127.428192\n",
      "382  -0.933478   1.317792  -2.439345   0.136796   0.865413 -171.274157\n",
      "383   0.325026  -0.412536   0.521247   0.420684   0.046911   55.832134\n",
      "384   0.730851   1.164982   0.137023  -0.069247   0.233846   89.713560\n",
      "385   0.174871   0.118885  -0.836333  -1.323834  -0.865156  -22.211332\n",
      "386   0.504132   0.606863   0.461977  -1.811114   1.445208   81.276279\n",
      "387   0.311836   1.197280   0.197844   1.011125   0.846983   59.817157\n",
      "388   1.132601   1.254344  -1.071481   0.429630   2.274471   89.004432\n",
      "389   0.105519  -0.045835  -1.486450   1.136769   1.578222  -37.625138\n",
      "390   0.261871  -0.838568   1.304020   0.663720  -0.909815   75.209912\n",
      "391  -0.008866   0.626945   1.306827  -0.342051   0.516707   68.119092\n",
      "392   0.686462   0.680349   0.898477   0.373317  -0.358324  112.104896\n",
      "393  -0.255697  -0.712051   0.672421   0.624327  -0.572207    2.625434\n",
      "394   0.636754  -0.580951  -2.155860  -0.401818  -1.332742  -42.540879\n",
      "395  -0.436959  -0.575844  -1.620908  -0.222588   1.086013 -104.438280\n",
      "396  -0.421324  -2.417543   0.876275   0.844565   0.171646  -12.773428\n",
      "397   0.554728   1.768243  -0.897787  -1.193661   0.340563   31.380631\n",
      "398  -1.627172   0.856471  -0.000566   0.629387   0.453382 -135.413640\n",
      "399   0.139310   0.531597  -0.853107   0.031692   1.714893   -4.216924\n",
      "\n",
      "[400 rows x 6 columns]\n"
     ]
    }
   ],
   "source": [
    "print(test_output)"
   ]
  },
  {
   "cell_type": "code",
   "execution_count": null,
   "metadata": {},
   "outputs": [],
   "source": []
  }
 ],
 "metadata": {
  "kernelspec": {
   "display_name": "Python 3",
   "language": "python",
   "name": "python3"
  },
  "language_info": {
   "codemirror_mode": {
    "name": "ipython",
    "version": 3
   },
   "file_extension": ".py",
   "mimetype": "text/x-python",
   "name": "python",
   "nbconvert_exporter": "python",
   "pygments_lexer": "ipython3",
   "version": "3.7.3"
  }
 },
 "nbformat": 4,
 "nbformat_minor": 2
}
